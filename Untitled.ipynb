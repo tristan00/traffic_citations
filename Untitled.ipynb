{
 "cells": [
  {
   "cell_type": "code",
   "execution_count": 1,
   "metadata": {},
   "outputs": [],
   "source": [
    "import pandas as pd\n",
    "import requests\n"
   ]
  },
  {
   "cell_type": "code",
   "execution_count": 2,
   "metadata": {},
   "outputs": [
    {
     "name": "stderr",
     "output_type": "stream",
     "text": [
      "/home/td/anaconda3/lib/python3.7/site-packages/IPython/core/interactiveshell.py:3049: DtypeWarning: Columns (0,7) have mixed types. Specify dtype option on import or set low_memory=False.\n",
      "  interactivity=interactivity, compiler=compiler, result=result)\n"
     ]
    }
   ],
   "source": [
    "data_url = 'https://s3-us-west-2.amazonaws.com/pcadsassessment/parking_citations.corrupted.csv'\n",
    "raw_df = pd.read_csv(data_url)"
   ]
  },
  {
   "cell_type": "code",
   "execution_count": 8,
   "metadata": {},
   "outputs": [],
   "source": [
    "raw_df = raw_df.dropna(subset = ['Make'])"
   ]
  },
  {
   "cell_type": "code",
   "execution_count": 9,
   "metadata": {},
   "outputs": [
    {
     "data": {
      "text/html": [
       "<div>\n",
       "<style scoped>\n",
       "    .dataframe tbody tr th:only-of-type {\n",
       "        vertical-align: middle;\n",
       "    }\n",
       "\n",
       "    .dataframe tbody tr th {\n",
       "        vertical-align: top;\n",
       "    }\n",
       "\n",
       "    .dataframe thead th {\n",
       "        text-align: right;\n",
       "    }\n",
       "</style>\n",
       "<table border=\"1\" class=\"dataframe\">\n",
       "  <thead>\n",
       "    <tr style=\"text-align: right;\">\n",
       "      <th></th>\n",
       "      <th>Ticket number</th>\n",
       "      <th>Issue Date</th>\n",
       "      <th>Issue time</th>\n",
       "      <th>Meter Id</th>\n",
       "      <th>Marked Time</th>\n",
       "      <th>RP State Plate</th>\n",
       "      <th>Plate Expiry Date</th>\n",
       "      <th>VIN</th>\n",
       "      <th>Make</th>\n",
       "      <th>Body Style</th>\n",
       "      <th>Color</th>\n",
       "      <th>Location</th>\n",
       "      <th>Route</th>\n",
       "      <th>Agency</th>\n",
       "      <th>Violation code</th>\n",
       "      <th>Violation Description</th>\n",
       "      <th>Fine amount</th>\n",
       "      <th>Latitude</th>\n",
       "      <th>Longitude</th>\n",
       "    </tr>\n",
       "  </thead>\n",
       "  <tbody>\n",
       "    <tr>\n",
       "      <th>4</th>\n",
       "      <td>1105461453</td>\n",
       "      <td>2015-09-15T00:00:00</td>\n",
       "      <td>115.0</td>\n",
       "      <td>NaN</td>\n",
       "      <td>NaN</td>\n",
       "      <td>CA</td>\n",
       "      <td>200316.0</td>\n",
       "      <td>NaN</td>\n",
       "      <td>CHEV</td>\n",
       "      <td>PA</td>\n",
       "      <td>BK</td>\n",
       "      <td>GEORGIA ST/OLYMPIC</td>\n",
       "      <td>1FB70</td>\n",
       "      <td>1.0</td>\n",
       "      <td>8069A</td>\n",
       "      <td>NO STOPPING/STANDING</td>\n",
       "      <td>93.0</td>\n",
       "      <td>99999.0</td>\n",
       "      <td>99999.0</td>\n",
       "    </tr>\n",
       "    <tr>\n",
       "      <th>6</th>\n",
       "      <td>1106500452</td>\n",
       "      <td>2015-12-17T00:00:00</td>\n",
       "      <td>1710.0</td>\n",
       "      <td>NaN</td>\n",
       "      <td>NaN</td>\n",
       "      <td>CA</td>\n",
       "      <td>201605.0</td>\n",
       "      <td>NaN</td>\n",
       "      <td>MAZD</td>\n",
       "      <td>PA</td>\n",
       "      <td>BL</td>\n",
       "      <td>SUNSET/ALVARADO</td>\n",
       "      <td>00217</td>\n",
       "      <td>1.0</td>\n",
       "      <td>8070</td>\n",
       "      <td>PARK IN GRID LOCK ZN</td>\n",
       "      <td>163.0</td>\n",
       "      <td>99999.0</td>\n",
       "      <td>99999.0</td>\n",
       "    </tr>\n",
       "    <tr>\n",
       "      <th>10</th>\n",
       "      <td>1106506424</td>\n",
       "      <td>2015-12-22T00:00:00</td>\n",
       "      <td>1100.0</td>\n",
       "      <td>NaN</td>\n",
       "      <td>NaN</td>\n",
       "      <td>CA</td>\n",
       "      <td>201511.0</td>\n",
       "      <td>NaN</td>\n",
       "      <td>FORD</td>\n",
       "      <td>TR</td>\n",
       "      <td>WH</td>\n",
       "      <td>1159 HUNTLEY DR</td>\n",
       "      <td>2A75</td>\n",
       "      <td>1.0</td>\n",
       "      <td>8069AA</td>\n",
       "      <td>NO STOP/STAND AM</td>\n",
       "      <td>93.0</td>\n",
       "      <td>99999.0</td>\n",
       "      <td>99999.0</td>\n",
       "    </tr>\n",
       "    <tr>\n",
       "      <th>11</th>\n",
       "      <td>1106506435</td>\n",
       "      <td>2015-12-22T00:00:00</td>\n",
       "      <td>1105.0</td>\n",
       "      <td>NaN</td>\n",
       "      <td>NaN</td>\n",
       "      <td>CA</td>\n",
       "      <td>201701.0</td>\n",
       "      <td>NaN</td>\n",
       "      <td>CHRY</td>\n",
       "      <td>PA</td>\n",
       "      <td>GO</td>\n",
       "      <td>1159 HUNTLEY DR</td>\n",
       "      <td>2A75</td>\n",
       "      <td>1.0</td>\n",
       "      <td>8069AA</td>\n",
       "      <td>NO STOP/STAND AM</td>\n",
       "      <td>93.0</td>\n",
       "      <td>99999.0</td>\n",
       "      <td>99999.0</td>\n",
       "    </tr>\n",
       "    <tr>\n",
       "      <th>14</th>\n",
       "      <td>1107179581</td>\n",
       "      <td>2015-12-27T00:00:00</td>\n",
       "      <td>1055.0</td>\n",
       "      <td>NaN</td>\n",
       "      <td>NaN</td>\n",
       "      <td>CA</td>\n",
       "      <td>201605.0</td>\n",
       "      <td>NaN</td>\n",
       "      <td>TOYO</td>\n",
       "      <td>PA</td>\n",
       "      <td>BK</td>\n",
       "      <td>3100 N HOLLYRIDGE DR</td>\n",
       "      <td>NaN</td>\n",
       "      <td>54.0</td>\n",
       "      <td>8058L</td>\n",
       "      <td>PREF PARKING</td>\n",
       "      <td>68.0</td>\n",
       "      <td>99999.0</td>\n",
       "      <td>99999.0</td>\n",
       "    </tr>\n",
       "  </tbody>\n",
       "</table>\n",
       "</div>"
      ],
      "text/plain": [
       "   Ticket number           Issue Date  Issue time Meter Id  Marked Time  \\\n",
       "4     1105461453  2015-09-15T00:00:00       115.0      NaN          NaN   \n",
       "6     1106500452  2015-12-17T00:00:00      1710.0      NaN          NaN   \n",
       "10    1106506424  2015-12-22T00:00:00      1100.0      NaN          NaN   \n",
       "11    1106506435  2015-12-22T00:00:00      1105.0      NaN          NaN   \n",
       "14    1107179581  2015-12-27T00:00:00      1055.0      NaN          NaN   \n",
       "\n",
       "   RP State Plate  Plate Expiry Date  VIN  Make Body Style Color  \\\n",
       "4              CA           200316.0  NaN  CHEV         PA    BK   \n",
       "6              CA           201605.0  NaN  MAZD         PA    BL   \n",
       "10             CA           201511.0  NaN  FORD         TR    WH   \n",
       "11             CA           201701.0  NaN  CHRY         PA    GO   \n",
       "14             CA           201605.0  NaN  TOYO         PA    BK   \n",
       "\n",
       "                Location  Route  Agency Violation code Violation Description  \\\n",
       "4     GEORGIA ST/OLYMPIC  1FB70     1.0          8069A  NO STOPPING/STANDING   \n",
       "6        SUNSET/ALVARADO  00217     1.0           8070  PARK IN GRID LOCK ZN   \n",
       "10       1159 HUNTLEY DR   2A75     1.0         8069AA      NO STOP/STAND AM   \n",
       "11       1159 HUNTLEY DR   2A75     1.0         8069AA      NO STOP/STAND AM   \n",
       "14  3100 N HOLLYRIDGE DR    NaN    54.0          8058L          PREF PARKING   \n",
       "\n",
       "    Fine amount  Latitude  Longitude  \n",
       "4          93.0   99999.0    99999.0  \n",
       "6         163.0   99999.0    99999.0  \n",
       "10         93.0   99999.0    99999.0  \n",
       "11         93.0   99999.0    99999.0  \n",
       "14         68.0   99999.0    99999.0  "
      ]
     },
     "execution_count": 9,
     "metadata": {},
     "output_type": "execute_result"
    }
   ],
   "source": [
    "raw_df.head()"
   ]
  },
  {
   "cell_type": "code",
   "execution_count": 11,
   "metadata": {},
   "outputs": [
    {
     "data": {
      "text/plain": [
       "(4357544, 19)"
      ]
     },
     "execution_count": 11,
     "metadata": {},
     "output_type": "execute_result"
    }
   ],
   "source": [
    "raw_df.shape\n"
   ]
  },
  {
   "cell_type": "code",
   "execution_count": 14,
   "metadata": {},
   "outputs": [
    {
     "data": {
      "text/plain": [
       "TOYT    721411\n",
       "HOND    491961\n",
       "FORD    382695\n",
       "NISS    311324\n",
       "CHEV    297076\n",
       "BMW     199221\n",
       "MERZ    177307\n",
       "VOLK    149501\n",
       "HYUN    133864\n",
       "DODG    127764\n",
       "LEXS    124508\n",
       "KIA     101746\n",
       "JEEP    100909\n",
       "AUDI     84229\n",
       "MAZD     79853\n",
       "OTHR     72411\n",
       "GMC      62391\n",
       "CHRY     57317\n",
       "INFI     56809\n",
       "ACUR     52703\n",
       "SUBA     46898\n",
       "VOLV     42330\n",
       "TOYO     40064\n",
       "MITS     37842\n",
       "CADI     34080\n",
       "MNNI     30885\n",
       "LNDR     23351\n",
       "PORS     21926\n",
       "FRHT     20976\n",
       "BUIC     20726\n",
       "UNK      20658\n",
       "PONT     19786\n",
       "LINC     18867\n",
       "GRUM     18422\n",
       "STRN     18340\n",
       "FIAT     16371\n",
       "JAGU     13149\n",
       "MERC     12916\n",
       "TSMR     10991\n",
       "RROV      9207\n",
       "ISU       8947\n",
       "INTL      7527\n",
       "SUZI      6241\n",
       "SAA       5704\n",
       "OLDS      5470\n",
       "LEXU      5098\n",
       "MASE      4567\n",
       "PTRB      3266\n",
       "PLYM      3249\n",
       "SMRT      2725\n",
       "Name: Make, dtype: int64"
      ]
     },
     "execution_count": 14,
     "metadata": {},
     "output_type": "execute_result"
    }
   ],
   "source": [
    "raw_df['Make'].value_counts()[:50]\n",
    "# notes, these could be cleaned up, clear duplicates with TOYT and TOYO, For the purpose of this excersize I will not curate this list much.\n",
    "# OTHR and INTL may need to be dropped even for this excersize\n"
   ]
  },
  {
   "cell_type": "code",
   "execution_count": 17,
   "metadata": {},
   "outputs": [],
   "source": [
    "top_25_names = raw_df['Make'].value_counts().index[:25].tolist()"
   ]
  },
  {
   "cell_type": "code",
   "execution_count": 18,
   "metadata": {},
   "outputs": [],
   "source": [
    "df = raw_df.copy()\n"
   ]
  },
  {
   "cell_type": "code",
   "execution_count": 21,
   "metadata": {},
   "outputs": [],
   "source": [
    "df['target'] = df['Make'].isin(top_25_names).astype(int)\n"
   ]
  },
  {
   "cell_type": "code",
   "execution_count": 24,
   "metadata": {},
   "outputs": [
    {
     "data": {
      "text/plain": [
       "1    3986214\n",
       "0     371330\n",
       "Name: target, dtype: int64"
      ]
     },
     "execution_count": 24,
     "metadata": {},
     "output_type": "execute_result"
    }
   ],
   "source": [
    "df['target'].value_counts()"
   ]
  },
  {
   "cell_type": "code",
   "execution_count": 26,
   "metadata": {},
   "outputs": [
    {
     "data": {
      "text/plain": [
       "PA    3834173\n",
       "PU     149403\n",
       "VN     116413\n",
       "TK     106140\n",
       "CM      70165\n",
       "TR      28344\n",
       "MC      13763\n",
       "SU      10879\n",
       "MH      10482\n",
       "OT       5087\n",
       "MS       1969\n",
       "BU       1638\n",
       "TL       1422\n",
       "RV       1231\n",
       "UT        784\n",
       "LM        425\n",
       "TC        124\n",
       "SW        122\n",
       "JE         97\n",
       "TT         70\n",
       "Name: Body Style, dtype: int64"
      ]
     },
     "execution_count": 26,
     "metadata": {},
     "output_type": "execute_result"
    }
   ],
   "source": [
    "body_styles = df['Body Style'].value_counts()[:20]"
   ]
  },
  {
   "cell_type": "code",
   "execution_count": null,
   "metadata": {},
   "outputs": [],
   "source": []
  }
 ],
 "metadata": {
  "kernelspec": {
   "display_name": "Python 3",
   "language": "python",
   "name": "python3"
  },
  "language_info": {
   "codemirror_mode": {
    "name": "ipython",
    "version": 3
   },
   "file_extension": ".py",
   "mimetype": "text/x-python",
   "name": "python",
   "nbconvert_exporter": "python",
   "pygments_lexer": "ipython3",
   "version": "3.7.3"
  }
 },
 "nbformat": 4,
 "nbformat_minor": 2
}
