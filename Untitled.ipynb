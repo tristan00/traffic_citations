{
 "cells": [
  {
   "cell_type": "code",
   "execution_count": 1,
   "metadata": {},
   "outputs": [],
   "source": [
    "import pandas as pd\n",
    "import requests\n",
    "import numpy as np\n"
   ]
  },
  {
   "cell_type": "code",
   "execution_count": 2,
   "metadata": {},
   "outputs": [
    {
     "name": "stderr",
     "output_type": "stream",
     "text": [
      "/home/td/anaconda3/lib/python3.7/site-packages/IPython/core/interactiveshell.py:3049: DtypeWarning: Columns (0,7) have mixed types. Specify dtype option on import or set low_memory=False.\n",
      "  interactivity=interactivity, compiler=compiler, result=result)\n"
     ]
    }
   ],
   "source": [
    "data_url = 'https://s3-us-west-2.amazonaws.com/pcadsassessment/parking_citations.corrupted.csv'\n",
    "raw_df = pd.read_csv(data_url)"
   ]
  },
  {
   "cell_type": "code",
   "execution_count": 3,
   "metadata": {},
   "outputs": [],
   "source": [
    "raw_df = raw_df.dropna(subset = ['Make'])"
   ]
  },
  {
   "cell_type": "code",
   "execution_count": 4,
   "metadata": {},
   "outputs": [
    {
     "data": {
      "text/html": [
       "<div>\n",
       "<style scoped>\n",
       "    .dataframe tbody tr th:only-of-type {\n",
       "        vertical-align: middle;\n",
       "    }\n",
       "\n",
       "    .dataframe tbody tr th {\n",
       "        vertical-align: top;\n",
       "    }\n",
       "\n",
       "    .dataframe thead th {\n",
       "        text-align: right;\n",
       "    }\n",
       "</style>\n",
       "<table border=\"1\" class=\"dataframe\">\n",
       "  <thead>\n",
       "    <tr style=\"text-align: right;\">\n",
       "      <th></th>\n",
       "      <th>Ticket number</th>\n",
       "      <th>Issue Date</th>\n",
       "      <th>Issue time</th>\n",
       "      <th>Meter Id</th>\n",
       "      <th>Marked Time</th>\n",
       "      <th>RP State Plate</th>\n",
       "      <th>Plate Expiry Date</th>\n",
       "      <th>VIN</th>\n",
       "      <th>Make</th>\n",
       "      <th>Body Style</th>\n",
       "      <th>Color</th>\n",
       "      <th>Location</th>\n",
       "      <th>Route</th>\n",
       "      <th>Agency</th>\n",
       "      <th>Violation code</th>\n",
       "      <th>Violation Description</th>\n",
       "      <th>Fine amount</th>\n",
       "      <th>Latitude</th>\n",
       "      <th>Longitude</th>\n",
       "    </tr>\n",
       "  </thead>\n",
       "  <tbody>\n",
       "    <tr>\n",
       "      <th>4</th>\n",
       "      <td>1105461453</td>\n",
       "      <td>2015-09-15T00:00:00</td>\n",
       "      <td>115.0</td>\n",
       "      <td>NaN</td>\n",
       "      <td>NaN</td>\n",
       "      <td>CA</td>\n",
       "      <td>200316.0</td>\n",
       "      <td>NaN</td>\n",
       "      <td>CHEV</td>\n",
       "      <td>PA</td>\n",
       "      <td>BK</td>\n",
       "      <td>GEORGIA ST/OLYMPIC</td>\n",
       "      <td>1FB70</td>\n",
       "      <td>1.0</td>\n",
       "      <td>8069A</td>\n",
       "      <td>NO STOPPING/STANDING</td>\n",
       "      <td>93.0</td>\n",
       "      <td>99999.0</td>\n",
       "      <td>99999.0</td>\n",
       "    </tr>\n",
       "    <tr>\n",
       "      <th>6</th>\n",
       "      <td>1106500452</td>\n",
       "      <td>2015-12-17T00:00:00</td>\n",
       "      <td>1710.0</td>\n",
       "      <td>NaN</td>\n",
       "      <td>NaN</td>\n",
       "      <td>CA</td>\n",
       "      <td>201605.0</td>\n",
       "      <td>NaN</td>\n",
       "      <td>MAZD</td>\n",
       "      <td>PA</td>\n",
       "      <td>BL</td>\n",
       "      <td>SUNSET/ALVARADO</td>\n",
       "      <td>00217</td>\n",
       "      <td>1.0</td>\n",
       "      <td>8070</td>\n",
       "      <td>PARK IN GRID LOCK ZN</td>\n",
       "      <td>163.0</td>\n",
       "      <td>99999.0</td>\n",
       "      <td>99999.0</td>\n",
       "    </tr>\n",
       "    <tr>\n",
       "      <th>10</th>\n",
       "      <td>1106506424</td>\n",
       "      <td>2015-12-22T00:00:00</td>\n",
       "      <td>1100.0</td>\n",
       "      <td>NaN</td>\n",
       "      <td>NaN</td>\n",
       "      <td>CA</td>\n",
       "      <td>201511.0</td>\n",
       "      <td>NaN</td>\n",
       "      <td>FORD</td>\n",
       "      <td>TR</td>\n",
       "      <td>WH</td>\n",
       "      <td>1159 HUNTLEY DR</td>\n",
       "      <td>2A75</td>\n",
       "      <td>1.0</td>\n",
       "      <td>8069AA</td>\n",
       "      <td>NO STOP/STAND AM</td>\n",
       "      <td>93.0</td>\n",
       "      <td>99999.0</td>\n",
       "      <td>99999.0</td>\n",
       "    </tr>\n",
       "    <tr>\n",
       "      <th>11</th>\n",
       "      <td>1106506435</td>\n",
       "      <td>2015-12-22T00:00:00</td>\n",
       "      <td>1105.0</td>\n",
       "      <td>NaN</td>\n",
       "      <td>NaN</td>\n",
       "      <td>CA</td>\n",
       "      <td>201701.0</td>\n",
       "      <td>NaN</td>\n",
       "      <td>CHRY</td>\n",
       "      <td>PA</td>\n",
       "      <td>GO</td>\n",
       "      <td>1159 HUNTLEY DR</td>\n",
       "      <td>2A75</td>\n",
       "      <td>1.0</td>\n",
       "      <td>8069AA</td>\n",
       "      <td>NO STOP/STAND AM</td>\n",
       "      <td>93.0</td>\n",
       "      <td>99999.0</td>\n",
       "      <td>99999.0</td>\n",
       "    </tr>\n",
       "    <tr>\n",
       "      <th>14</th>\n",
       "      <td>1107179581</td>\n",
       "      <td>2015-12-27T00:00:00</td>\n",
       "      <td>1055.0</td>\n",
       "      <td>NaN</td>\n",
       "      <td>NaN</td>\n",
       "      <td>CA</td>\n",
       "      <td>201605.0</td>\n",
       "      <td>NaN</td>\n",
       "      <td>TOYO</td>\n",
       "      <td>PA</td>\n",
       "      <td>BK</td>\n",
       "      <td>3100 N HOLLYRIDGE DR</td>\n",
       "      <td>NaN</td>\n",
       "      <td>54.0</td>\n",
       "      <td>8058L</td>\n",
       "      <td>PREF PARKING</td>\n",
       "      <td>68.0</td>\n",
       "      <td>99999.0</td>\n",
       "      <td>99999.0</td>\n",
       "    </tr>\n",
       "  </tbody>\n",
       "</table>\n",
       "</div>"
      ],
      "text/plain": [
       "   Ticket number           Issue Date  Issue time Meter Id  Marked Time  \\\n",
       "4     1105461453  2015-09-15T00:00:00       115.0      NaN          NaN   \n",
       "6     1106500452  2015-12-17T00:00:00      1710.0      NaN          NaN   \n",
       "10    1106506424  2015-12-22T00:00:00      1100.0      NaN          NaN   \n",
       "11    1106506435  2015-12-22T00:00:00      1105.0      NaN          NaN   \n",
       "14    1107179581  2015-12-27T00:00:00      1055.0      NaN          NaN   \n",
       "\n",
       "   RP State Plate  Plate Expiry Date  VIN  Make Body Style Color  \\\n",
       "4              CA           200316.0  NaN  CHEV         PA    BK   \n",
       "6              CA           201605.0  NaN  MAZD         PA    BL   \n",
       "10             CA           201511.0  NaN  FORD         TR    WH   \n",
       "11             CA           201701.0  NaN  CHRY         PA    GO   \n",
       "14             CA           201605.0  NaN  TOYO         PA    BK   \n",
       "\n",
       "                Location  Route  Agency Violation code Violation Description  \\\n",
       "4     GEORGIA ST/OLYMPIC  1FB70     1.0          8069A  NO STOPPING/STANDING   \n",
       "6        SUNSET/ALVARADO  00217     1.0           8070  PARK IN GRID LOCK ZN   \n",
       "10       1159 HUNTLEY DR   2A75     1.0         8069AA      NO STOP/STAND AM   \n",
       "11       1159 HUNTLEY DR   2A75     1.0         8069AA      NO STOP/STAND AM   \n",
       "14  3100 N HOLLYRIDGE DR    NaN    54.0          8058L          PREF PARKING   \n",
       "\n",
       "    Fine amount  Latitude  Longitude  \n",
       "4          93.0   99999.0    99999.0  \n",
       "6         163.0   99999.0    99999.0  \n",
       "10         93.0   99999.0    99999.0  \n",
       "11         93.0   99999.0    99999.0  \n",
       "14         68.0   99999.0    99999.0  "
      ]
     },
     "execution_count": 4,
     "metadata": {},
     "output_type": "execute_result"
    }
   ],
   "source": [
    "raw_df.head()"
   ]
  },
  {
   "cell_type": "code",
   "execution_count": 5,
   "metadata": {},
   "outputs": [
    {
     "data": {
      "text/plain": [
       "(4357544, 19)"
      ]
     },
     "execution_count": 5,
     "metadata": {},
     "output_type": "execute_result"
    }
   ],
   "source": [
    "raw_df.shape\n"
   ]
  },
  {
   "cell_type": "code",
   "execution_count": 6,
   "metadata": {},
   "outputs": [
    {
     "data": {
      "text/plain": [
       "TOYT    721411\n",
       "HOND    491961\n",
       "FORD    382695\n",
       "NISS    311324\n",
       "CHEV    297076\n",
       "BMW     199221\n",
       "MERZ    177307\n",
       "VOLK    149501\n",
       "HYUN    133864\n",
       "DODG    127764\n",
       "LEXS    124508\n",
       "KIA     101746\n",
       "JEEP    100909\n",
       "AUDI     84229\n",
       "MAZD     79853\n",
       "OTHR     72411\n",
       "GMC      62391\n",
       "CHRY     57317\n",
       "INFI     56809\n",
       "ACUR     52703\n",
       "SUBA     46898\n",
       "VOLV     42330\n",
       "TOYO     40064\n",
       "MITS     37842\n",
       "CADI     34080\n",
       "MNNI     30885\n",
       "LNDR     23351\n",
       "PORS     21926\n",
       "FRHT     20976\n",
       "BUIC     20726\n",
       "UNK      20658\n",
       "PONT     19786\n",
       "LINC     18867\n",
       "GRUM     18422\n",
       "STRN     18340\n",
       "FIAT     16371\n",
       "JAGU     13149\n",
       "MERC     12916\n",
       "TSMR     10991\n",
       "RROV      9207\n",
       "ISU       8947\n",
       "INTL      7527\n",
       "SUZI      6241\n",
       "SAA       5704\n",
       "OLDS      5470\n",
       "LEXU      5098\n",
       "MASE      4567\n",
       "PTRB      3266\n",
       "PLYM      3249\n",
       "SMRT      2725\n",
       "Name: Make, dtype: int64"
      ]
     },
     "execution_count": 6,
     "metadata": {},
     "output_type": "execute_result"
    }
   ],
   "source": [
    "raw_df['Make'].value_counts()[:50]\n",
    "# notes, these could be cleaned up, clear duplicate with TOYT and TOYO, For the purpose of this exersize I will not curate this list much.\n",
    "# OTHR and INTL clearly incorrect\n"
   ]
  },
  {
   "cell_type": "code",
   "execution_count": 7,
   "metadata": {},
   "outputs": [],
   "source": [
    "top_25_names = raw_df['Make'].value_counts().index[:25].tolist()"
   ]
  },
  {
   "cell_type": "code",
   "execution_count": 8,
   "metadata": {},
   "outputs": [],
   "source": [
    "df = raw_df.copy()\n"
   ]
  },
  {
   "cell_type": "code",
   "execution_count": 9,
   "metadata": {},
   "outputs": [],
   "source": [
    "df['target'] = df['Make'].isin(top_25_names).astype(int)\n"
   ]
  },
  {
   "cell_type": "code",
   "execution_count": 10,
   "metadata": {},
   "outputs": [
    {
     "data": {
      "text/plain": [
       "1    3986214\n",
       "0     371330\n",
       "Name: target, dtype: int64"
      ]
     },
     "execution_count": 10,
     "metadata": {},
     "output_type": "execute_result"
    }
   ],
   "source": [
    "df['target'].value_counts()"
   ]
  },
  {
   "cell_type": "markdown",
   "metadata": {},
   "source": [
    "# Car characteristics"
   ]
  },
  {
   "cell_type": "code",
   "execution_count": 11,
   "metadata": {},
   "outputs": [],
   "source": [
    "body_styles = df['Body Style'].value_counts()[:10]"
   ]
  },
  {
   "cell_type": "code",
   "execution_count": 12,
   "metadata": {},
   "outputs": [
    {
     "data": {
      "text/plain": [
       "PA    3834173\n",
       "PU     149403\n",
       "VN     116413\n",
       "TK     106140\n",
       "CM      70165\n",
       "TR      28344\n",
       "MC      13763\n",
       "SU      10879\n",
       "MH      10482\n",
       "OT       5087\n",
       "Name: Body Style, dtype: int64"
      ]
     },
     "execution_count": 12,
     "metadata": {},
     "output_type": "execute_result"
    }
   ],
   "source": [
    "body_styles"
   ]
  },
  {
   "cell_type": "code",
   "execution_count": 13,
   "metadata": {},
   "outputs": [],
   "source": [
    "df_body = df[df['Body Style'].isin(body_styles.index)]"
   ]
  },
  {
   "cell_type": "code",
   "execution_count": 14,
   "metadata": {},
   "outputs": [],
   "source": [
    "df_body_group = df_body.groupby('Body Style')['target'].mean()"
   ]
  },
  {
   "cell_type": "code",
   "execution_count": 15,
   "metadata": {},
   "outputs": [
    {
     "data": {
      "text/plain": [
       "Body Style\n",
       "CM    0.651436\n",
       "MC    0.383928\n",
       "MH    0.683457\n",
       "OT    0.922941\n",
       "PA    0.927128\n",
       "PU    0.992731\n",
       "SU    0.854306\n",
       "TK    0.686678\n",
       "TR    0.805673\n",
       "VN    0.925558\n",
       "Name: target, dtype: float64"
      ]
     },
     "execution_count": 15,
     "metadata": {},
     "output_type": "execute_result"
    }
   ],
   "source": [
    "df_body_group"
   ]
  },
  {
   "cell_type": "code",
   "execution_count": 16,
   "metadata": {},
   "outputs": [],
   "source": [
    "positive_df = df[df['target'] == 1]\n",
    "negative_df = df[df['target'] == 0]\n"
   ]
  },
  {
   "cell_type": "code",
   "execution_count": 17,
   "metadata": {},
   "outputs": [
    {
     "data": {
      "text/plain": [
       "PA    0.892444\n",
       "PU    0.037236\n",
       "VN    0.027050\n",
       "TK    0.018298\n",
       "CM    0.011475\n",
       "TR    0.005733\n",
       "SU    0.002333\n",
       "MH    0.001799\n",
       "MC    0.001327\n",
       "OT    0.001179\n",
       "Name: Body Style, dtype: float64"
      ]
     },
     "execution_count": 17,
     "metadata": {},
     "output_type": "execute_result"
    }
   ],
   "source": [
    "positive_df['Body Style'].value_counts(normalize = True)[:10]"
   ]
  },
  {
   "cell_type": "code",
   "execution_count": 48,
   "metadata": {},
   "outputs": [
    {
     "data": {
      "text/plain": [
       "PA    0.754389\n",
       "TK    0.089791\n",
       "CM    0.066034\n",
       "VN    0.023398\n",
       "MC    0.022893\n",
       "TR    0.014872\n",
       "MH    0.008959\n",
       "SU    0.004280\n",
       "TL    0.003000\n",
       "PU    0.002932\n",
       "Name: Body Style, dtype: float64"
      ]
     },
     "execution_count": 48,
     "metadata": {},
     "output_type": "execute_result"
    }
   ],
   "source": [
    "negative_df['Body Style'].value_counts(normalize = True)[:10]"
   ]
  },
  {
   "cell_type": "code",
   "execution_count": 50,
   "metadata": {},
   "outputs": [
    {
     "data": {
      "text/plain": [
       "Color\n",
       "BK    0.915945\n",
       "BL    0.914649\n",
       "BN    0.674214\n",
       "GN    0.894339\n",
       "GO    0.913986\n",
       "GY    0.943319\n",
       "MR    0.918038\n",
       "RD    0.902814\n",
       "SL    0.948629\n",
       "WT    0.909354\n",
       "Name: target, dtype: float64"
      ]
     },
     "execution_count": 50,
     "metadata": {},
     "output_type": "execute_result"
    }
   ],
   "source": [
    "car_colors = df['Color'].value_counts()[:10]\n",
    "color_df = df[df['Color'].isin(car_colors.index)]\n",
    "color_df.groupby('Color')['target'].mean()\n"
   ]
  },
  {
   "cell_type": "code",
   "execution_count": 51,
   "metadata": {},
   "outputs": [
    {
     "data": {
      "text/plain": [
       "Color\n",
       "BK    940001\n",
       "BL    338908\n",
       "BN     85544\n",
       "GN    125145\n",
       "GO     57316\n",
       "GY    844745\n",
       "MR     52427\n",
       "RD    215598\n",
       "SL    546397\n",
       "WT    904267\n",
       "Name: target, dtype: int64"
      ]
     },
     "execution_count": 51,
     "metadata": {},
     "output_type": "execute_result"
    }
   ],
   "source": [
    "color_df.groupby('Color')['target'].count()\n"
   ]
  },
  {
   "cell_type": "markdown",
   "metadata": {},
   "source": [
    "# Location "
   ]
  },
  {
   "cell_type": "code",
   "execution_count": 24,
   "metadata": {},
   "outputs": [],
   "source": [
    "df_loc = df.copy()\n",
    "\n",
    "df_loc['Latitude'] = df_loc['Latitude'].replace(99999.0, np.nan)\n",
    "df_loc['Longitude'] = df_loc['Longitude'].replace(99999.0, np.nan)\n",
    "df_loc = df_loc.dropna(subset = ['Latitude', 'Longitude'])"
   ]
  },
  {
   "cell_type": "code",
   "execution_count": 25,
   "metadata": {},
   "outputs": [
    {
     "data": {
      "text/plain": [
       "(3703951, 20)"
      ]
     },
     "execution_count": 25,
     "metadata": {},
     "output_type": "execute_result"
    }
   ],
   "source": [
    "df_loc.shape"
   ]
  },
  {
   "cell_type": "markdown",
   "metadata": {},
   "source": [
    "Clustering and outlier score are probably the easiest ways to use lat and long"
   ]
  },
  {
   "cell_type": "code",
   "execution_count": 26,
   "metadata": {},
   "outputs": [],
   "source": [
    "from sklearn.cluster import KMeans\n",
    "from sklearn.ensemble import IsolationForest\n"
   ]
  },
  {
   "cell_type": "code",
   "execution_count": 27,
   "metadata": {},
   "outputs": [
    {
     "name": "stderr",
     "output_type": "stream",
     "text": [
      "/home/td/anaconda3/lib/python3.7/site-packages/sklearn/ensemble/iforest.py:213: FutureWarning: default contamination parameter 0.1 will change in version 0.22 to \"auto\". This will change the predict method behavior.\n",
      "  FutureWarning)\n",
      "/home/td/anaconda3/lib/python3.7/site-packages/sklearn/ensemble/iforest.py:223: FutureWarning: behaviour=\"old\" is deprecated and will be removed in version 0.22. Please use behaviour=\"new\", which makes the decision_function change to match other anomaly detection algorithm API.\n",
      "  FutureWarning)\n"
     ]
    }
   ],
   "source": [
    "iso = IsolationForest()\n",
    "iso.fit(df_loc[['Latitude', 'Longitude']])\n",
    "df_loc['iso_loc_score'] = iso.decision_function(df_loc[['Latitude', 'Longitude']])\n",
    "\n",
    "\n",
    "km_means_3 = KMeans(n_clusters=3)\n",
    "df_loc['km_means_3_cluster'] = km_means_3.fit_predict(df_loc[['Latitude', 'Longitude']])\n",
    "\n",
    "km_means_10 = KMeans(n_clusters=10)\n",
    "df_loc['km_means_10_cluster'] = km_means_10.fit_predict(df_loc[['Latitude', 'Longitude']])\n",
    "\n",
    "km_means_20 = KMeans(n_clusters=25)\n",
    "df_loc['km_means_20_cluster'] = km_means_20.fit_predict(df_loc[['Latitude', 'Longitude']])\n",
    "\n",
    "km_means_100 = KMeans(n_clusters=100)\n",
    "df_loc['km_means_100_cluster'] = km_means_100.fit_predict(df_loc[['Latitude', 'Longitude']])\n",
    "\n"
   ]
  },
  {
   "cell_type": "code",
   "execution_count": 35,
   "metadata": {},
   "outputs": [
    {
     "data": {
      "text/plain": [
       "km_means_20_cluster\n",
       "0     0.910377\n",
       "1     1.000000\n",
       "2     1.000000\n",
       "3     0.924057\n",
       "4     0.929186\n",
       "5     0.898350\n",
       "6     0.939829\n",
       "7     0.906421\n",
       "8     0.922167\n",
       "9     0.924128\n",
       "10    0.917075\n",
       "11    0.926763\n",
       "12    0.911380\n",
       "13    0.909739\n",
       "14    0.925004\n",
       "15    0.874269\n",
       "16    0.924710\n",
       "17    0.936468\n",
       "18    0.879078\n",
       "19    0.893067\n",
       "20    0.932740\n",
       "21    0.922341\n",
       "22    0.922389\n",
       "23    0.941388\n",
       "24    0.932766\n",
       "Name: target, dtype: float64"
      ]
     },
     "execution_count": 35,
     "metadata": {},
     "output_type": "execute_result"
    }
   ],
   "source": [
    "df_loc.groupby('km_means_20_cluster')['target'].mean()"
   ]
  },
  {
   "cell_type": "code",
   "execution_count": 34,
   "metadata": {},
   "outputs": [
    {
     "data": {
      "text/plain": [
       "km_means_20_cluster\n",
       "0     115919\n",
       "1          1\n",
       "2          1\n",
       "3     116548\n",
       "4     188041\n",
       "5      77098\n",
       "6     133969\n",
       "7     334478\n",
       "8      62698\n",
       "9      37326\n",
       "10    316613\n",
       "11     67466\n",
       "12    184891\n",
       "13     47850\n",
       "14    124446\n",
       "15       684\n",
       "16    209152\n",
       "17     55578\n",
       "18    521702\n",
       "19     36219\n",
       "20     91035\n",
       "21    372591\n",
       "22    153805\n",
       "23    314780\n",
       "24    141060\n",
       "Name: target, dtype: int64"
      ]
     },
     "execution_count": 34,
     "metadata": {},
     "output_type": "execute_result"
    }
   ],
   "source": [
    "df_loc.groupby('km_means_20_cluster')['target'].count()"
   ]
  },
  {
   "cell_type": "code",
   "execution_count": 39,
   "metadata": {},
   "outputs": [
    {
     "data": {
      "text/plain": [
       "target\n",
       "0    0.049778\n",
       "1    0.047904\n",
       "Name: iso_loc_score, dtype: float64"
      ]
     },
     "execution_count": 39,
     "metadata": {},
     "output_type": "execute_result"
    }
   ],
   "source": [
    "df_loc.groupby('target')['iso_loc_score'].mean()\n"
   ]
  },
  {
   "cell_type": "code",
   "execution_count": 43,
   "metadata": {},
   "outputs": [
    {
     "data": {
      "text/plain": [
       "RP State Plate\n",
       "AB        754\n",
       "AK        532\n",
       "AL       1544\n",
       "AR       1248\n",
       "AS          6\n",
       "AZ      33855\n",
       "BC       1175\n",
       "CA    3445028\n",
       "CN         54\n",
       "CO       9606\n",
       "CT       2251\n",
       "CZ         11\n",
       "DC        561\n",
       "DE        411\n",
       "FL      16744\n",
       "FN        176\n",
       "GA       5066\n",
       "GU          9\n",
       "HI        607\n",
       "IA       1465\n",
       "ID       1936\n",
       "IL      10794\n",
       "IN       4774\n",
       "KS       1872\n",
       "KY       1236\n",
       "LA       2755\n",
       "MA       4125\n",
       "MB         66\n",
       "MD       3979\n",
       "ME        740\n",
       "       ...   \n",
       "NW          9\n",
       "NY       7112\n",
       "OH       5214\n",
       "OK       3715\n",
       "ON        873\n",
       "OR      10462\n",
       "PA       5461\n",
       "PE          8\n",
       "PR         13\n",
       "QU        307\n",
       "RI        569\n",
       "SA         68\n",
       "SC       1731\n",
       "SD        484\n",
       "TN       4411\n",
       "TT         10\n",
       "TX      23726\n",
       "US         67\n",
       "UT       5443\n",
       "VA       4542\n",
       "VI         10\n",
       "VN        817\n",
       "VT        339\n",
       "WA      15046\n",
       "WI       2544\n",
       "WV        299\n",
       "WY        588\n",
       "XX         35\n",
       "YU          2\n",
       "|           1\n",
       "Name: target, Length: 77, dtype: int64"
      ]
     },
     "execution_count": 43,
     "metadata": {},
     "output_type": "execute_result"
    }
   ],
   "source": [
    "df_loc.groupby('RP State Plate')['target'].count()"
   ]
  },
  {
   "cell_type": "code",
   "execution_count": 41,
   "metadata": {},
   "outputs": [
    {
     "data": {
      "text/plain": [
       "Agency\n",
       "1.0     0.855991\n",
       "2.0     0.840399\n",
       "3.0     0.603896\n",
       "4.0     0.919458\n",
       "5.0     0.700000\n",
       "6.0     0.500000\n",
       "7.0     1.000000\n",
       "8.0     1.000000\n",
       "11.0    0.869241\n",
       "12.0    0.857143\n",
       "34.0    0.902985\n",
       "35.0    1.000000\n",
       "36.0    0.856269\n",
       "38.0    1.000000\n",
       "40.0    0.919744\n",
       "41.0    0.857143\n",
       "50.0    0.500000\n",
       "51.0    0.916733\n",
       "52.0    1.000000\n",
       "53.0    0.927347\n",
       "54.0    0.925923\n",
       "55.0    0.920962\n",
       "56.0    0.898194\n",
       "57.0    0.933504\n",
       "58.0    0.909325\n",
       "59.0    0.625000\n",
       "77.0    1.000000\n",
       "97.0    0.571429\n",
       "Name: target, dtype: float64"
      ]
     },
     "execution_count": 41,
     "metadata": {},
     "output_type": "execute_result"
    }
   ],
   "source": [
    "df_loc.groupby('Agency')['target'].mean()"
   ]
  },
  {
   "cell_type": "code",
   "execution_count": 47,
   "metadata": {},
   "outputs": [
    {
     "data": {
      "text/plain": [
       "Route\n",
       "00107    0.914930\n",
       "00111    0.904189\n",
       "00309    0.922919\n",
       "00315    0.917117\n",
       "00400    0.931708\n",
       "00401    0.924408\n",
       "00402    0.931876\n",
       "00403    0.935765\n",
       "00500    0.915932\n",
       "00600    0.906531\n",
       "Name: target, dtype: float64"
      ]
     },
     "execution_count": 47,
     "metadata": {},
     "output_type": "execute_result"
    }
   ],
   "source": [
    "routes = df['Route'].value_counts()[:10]\n",
    "df_routes = df[df['Route'].isin(routes.index)]\n",
    "df_routes.groupby('Route')['target'].mean()"
   ]
  },
  {
   "cell_type": "code",
   "execution_count": 46,
   "metadata": {},
   "outputs": [
    {
     "data": {
      "text/html": [
       "<div>\n",
       "<style scoped>\n",
       "    .dataframe tbody tr th:only-of-type {\n",
       "        vertical-align: middle;\n",
       "    }\n",
       "\n",
       "    .dataframe tbody tr th {\n",
       "        vertical-align: top;\n",
       "    }\n",
       "\n",
       "    .dataframe thead th {\n",
       "        text-align: right;\n",
       "    }\n",
       "</style>\n",
       "<table border=\"1\" class=\"dataframe\">\n",
       "  <thead>\n",
       "    <tr style=\"text-align: right;\">\n",
       "      <th></th>\n",
       "      <th>Ticket number</th>\n",
       "      <th>Issue Date</th>\n",
       "      <th>Issue time</th>\n",
       "      <th>Meter Id</th>\n",
       "      <th>Marked Time</th>\n",
       "      <th>RP State Plate</th>\n",
       "      <th>Plate Expiry Date</th>\n",
       "      <th>VIN</th>\n",
       "      <th>Make</th>\n",
       "      <th>Body Style</th>\n",
       "      <th>Color</th>\n",
       "      <th>Location</th>\n",
       "      <th>Route</th>\n",
       "      <th>Agency</th>\n",
       "      <th>Violation code</th>\n",
       "      <th>Violation Description</th>\n",
       "      <th>Fine amount</th>\n",
       "      <th>Latitude</th>\n",
       "      <th>Longitude</th>\n",
       "      <th>target</th>\n",
       "    </tr>\n",
       "  </thead>\n",
       "  <tbody>\n",
       "  </tbody>\n",
       "</table>\n",
       "</div>"
      ],
      "text/plain": [
       "Empty DataFrame\n",
       "Columns: [Ticket number, Issue Date, Issue time, Meter Id, Marked Time, RP State Plate, Plate Expiry Date, VIN, Make, Body Style, Color, Location, Route, Agency, Violation code, Violation Description, Fine amount, Latitude, Longitude, target]\n",
       "Index: []"
      ]
     },
     "execution_count": 46,
     "metadata": {},
     "output_type": "execute_result"
    }
   ],
   "source": []
  },
  {
   "cell_type": "markdown",
   "metadata": {},
   "source": [
    "# ticket information"
   ]
  },
  {
   "cell_type": "code",
   "execution_count": 53,
   "metadata": {},
   "outputs": [
    {
     "data": {
      "text/plain": [
       "80.69BS     1220241\n",
       "88.13B+      761734\n",
       "80.56E4+     303235\n",
       "80.58L       299488\n",
       "5204A-       267438\n",
       "80.69B       185573\n",
       "80.69C       145099\n",
       "5200         119369\n",
       "80.56E1       94060\n",
       "80.69AP+      78415\n",
       "80.61         61250\n",
       "22500E        54241\n",
       "80.69A+       48427\n",
       "80.70         46740\n",
       "80.56E2       45450\n",
       "8069BS        44610\n",
       "80.69AA+      44402\n",
       "4000A1        43006\n",
       "22500F        39872\n",
       "22502A        38239\n",
       "80.73.2       37157\n",
       "22514         34179\n",
       "22500H        28877\n",
       "88.03A        26896\n",
       "88.63B+       22656\n",
       "8056E4        19539\n",
       "80.69.2       18813\n",
       "5204A         12913\n",
       "8069B          9333\n",
       "8813B          8813\n",
       "             ...   \n",
       "573               1\n",
       "8073C             1\n",
       "27155             1\n",
       "8753              1\n",
       "8863A             1\n",
       "8709E             1\n",
       "8049#             1\n",
       "225001D           1\n",
       "80.73.1+          1\n",
       "1564250           1\n",
       "27465B            1\n",
       "576               1\n",
       "047               1\n",
       "8056W#            1\n",
       "8055A1            1\n",
       "8055A2            1\n",
       "5000A             1\n",
       "039               1\n",
       "1564340           1\n",
       "22510             1\n",
       "8073B2F           1\n",
       "8073B2A3          1\n",
       "21113C            1\n",
       "8944C             1\n",
       "8056Y             1\n",
       "572521A           1\n",
       "225118            1\n",
       "8025B             1\n",
       "80713**           1\n",
       "22500F#           1\n",
       "Name: Violation code, Length: 282, dtype: int64"
      ]
     },
     "execution_count": 53,
     "metadata": {},
     "output_type": "execute_result"
    }
   ],
   "source": [
    "car_colors = df['Violation code'].value_counts()[:10]\n",
    "color_df = df[df['Color'].isin(car_colors.index)]\n",
    "color_df.groupby('Color')['target'].mean()"
   ]
  },
  {
   "cell_type": "code",
   "execution_count": null,
   "metadata": {},
   "outputs": [],
   "source": []
  }
 ],
 "metadata": {
  "kernelspec": {
   "display_name": "Python 3",
   "language": "python",
   "name": "python3"
  },
  "language_info": {
   "codemirror_mode": {
    "name": "ipython",
    "version": 3
   },
   "file_extension": ".py",
   "mimetype": "text/x-python",
   "name": "python",
   "nbconvert_exporter": "python",
   "pygments_lexer": "ipython3",
   "version": "3.7.3"
  }
 },
 "nbformat": 4,
 "nbformat_minor": 2
}
