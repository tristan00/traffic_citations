{
 "cells": [
  {
   "cell_type": "code",
   "execution_count": 1,
   "metadata": {},
   "outputs": [],
   "source": [
    "import pandas as pd\n",
    "from sklearn.preprocessing import OneHotEncoder\n",
    "from sklearn.ensemble import RandomForestClassifier\n",
    "from sklearn.metrics import f1_score\n",
    "import numpy as np\n",
    "replacement_value = 'dummy_repalcement_value'\n",
    "path = '/home/td/Documents'"
   ]
  },
  {
   "cell_type": "markdown",
   "metadata": {},
   "source": [
    "# Problem structure"
   ]
  },
  {
   "cell_type": "markdown",
   "metadata": {},
   "source": [
    "One way to set up the problem is to make it a binary classification task. This has the advantages of simplicity but it makes the assumption that large Makes share characteristics which is not always true. In this pass I solved the problem this way. \n",
    "\n",
    "A more thorough way to set up the problem would be to predict the make or a group of makes sharing similar characteristics and back into the probability. "
   ]
  },
  {
   "cell_type": "markdown",
   "metadata": {},
   "source": [
    "# Data problems"
   ]
  },
  {
   "cell_type": "code",
   "execution_count": 2,
   "metadata": {},
   "outputs": [
    {
     "data": {
      "text/plain": [
       "TOYT    721411\n",
       "HOND    491961\n",
       "FORD    382695\n",
       "NISS    311324\n",
       "CHEV    297076\n",
       "BMW     199221\n",
       "MERZ    177307\n",
       "VOLK    149501\n",
       "HYUN    133864\n",
       "DODG    127764\n",
       "LEXS    124508\n",
       "KIA     101746\n",
       "JEEP    100909\n",
       "AUDI     84229\n",
       "MAZD     79853\n",
       "OTHR     72411\n",
       "GMC      62391\n",
       "CHRY     57317\n",
       "INFI     56809\n",
       "ACUR     52703\n",
       "SUBA     46898\n",
       "VOLV     42330\n",
       "TOYO     40064\n",
       "MITS     37842\n",
       "CADI     34080\n",
       "Name: Make, dtype: int64"
      ]
     },
     "execution_count": 2,
     "metadata": {},
     "output_type": "execute_result"
    }
   ],
   "source": [
    "# Label problems\n",
    "path = '/home/td/Documents'\n",
    "df = pd.read_csv('{path}/tickets.csv'.format(path=path), low_memory=False)\n",
    "\n",
    "top_25_makes = df['Make'].value_counts()[:25].index.tolist()\n",
    "df['Make'].value_counts()[:25]"
   ]
  },
  {
   "cell_type": "markdown",
   "metadata": {},
   "source": [
    "Curation will be required, there is at least 1 duplicate with toyota and there are some invalid makes such as OTHR"
   ]
  },
  {
   "cell_type": "code",
   "execution_count": 3,
   "metadata": {},
   "outputs": [],
   "source": [
    "df.loc[:,'Latitude'] = df.loc[:,'Latitude'].replace(99999.0, np.nan)\n",
    "df.loc[:,'Longitude'] = df.loc[:,'Longitude'].replace(99999.0, np.nan)\n"
   ]
  },
  {
   "cell_type": "code",
   "execution_count": 4,
   "metadata": {},
   "outputs": [
    {
     "data": {
      "text/html": [
       "<div>\n",
       "<style scoped>\n",
       "    .dataframe tbody tr th:only-of-type {\n",
       "        vertical-align: middle;\n",
       "    }\n",
       "\n",
       "    .dataframe tbody tr th {\n",
       "        vertical-align: top;\n",
       "    }\n",
       "\n",
       "    .dataframe thead th {\n",
       "        text-align: right;\n",
       "    }\n",
       "</style>\n",
       "<table border=\"1\" class=\"dataframe\">\n",
       "  <thead>\n",
       "    <tr style=\"text-align: right;\">\n",
       "      <th></th>\n",
       "      <th>column_name</th>\n",
       "      <th>percent_missing</th>\n",
       "    </tr>\n",
       "  </thead>\n",
       "  <tbody>\n",
       "    <tr>\n",
       "      <th>Ticket number</th>\n",
       "      <td>Ticket number</td>\n",
       "      <td>0.000000</td>\n",
       "    </tr>\n",
       "    <tr>\n",
       "      <th>Issue Date</th>\n",
       "      <td>Issue Date</td>\n",
       "      <td>0.006143</td>\n",
       "    </tr>\n",
       "    <tr>\n",
       "      <th>Issue time</th>\n",
       "      <td>Issue time</td>\n",
       "      <td>0.029601</td>\n",
       "    </tr>\n",
       "    <tr>\n",
       "      <th>Meter Id</th>\n",
       "      <td>Meter Id</td>\n",
       "      <td>73.991538</td>\n",
       "    </tr>\n",
       "    <tr>\n",
       "      <th>Marked Time</th>\n",
       "      <td>Marked Time</td>\n",
       "      <td>96.669739</td>\n",
       "    </tr>\n",
       "    <tr>\n",
       "      <th>RP State Plate</th>\n",
       "      <td>RP State Plate</td>\n",
       "      <td>0.008767</td>\n",
       "    </tr>\n",
       "    <tr>\n",
       "      <th>Plate Expiry Date</th>\n",
       "      <td>Plate Expiry Date</td>\n",
       "      <td>9.108706</td>\n",
       "    </tr>\n",
       "    <tr>\n",
       "      <th>VIN</th>\n",
       "      <td>VIN</td>\n",
       "      <td>99.813099</td>\n",
       "    </tr>\n",
       "    <tr>\n",
       "      <th>Make</th>\n",
       "      <td>Make</td>\n",
       "      <td>50.062606</td>\n",
       "    </tr>\n",
       "    <tr>\n",
       "      <th>Body Style</th>\n",
       "      <td>Body Style</td>\n",
       "      <td>0.101879</td>\n",
       "    </tr>\n",
       "    <tr>\n",
       "      <th>Color</th>\n",
       "      <td>Color</td>\n",
       "      <td>0.047158</td>\n",
       "    </tr>\n",
       "    <tr>\n",
       "      <th>Location</th>\n",
       "      <td>Location</td>\n",
       "      <td>0.009787</td>\n",
       "    </tr>\n",
       "    <tr>\n",
       "      <th>Route</th>\n",
       "      <td>Route</td>\n",
       "      <td>0.748956</td>\n",
       "    </tr>\n",
       "    <tr>\n",
       "      <th>Agency</th>\n",
       "      <td>Agency</td>\n",
       "      <td>0.006246</td>\n",
       "    </tr>\n",
       "    <tr>\n",
       "      <th>Violation code</th>\n",
       "      <td>Violation code</td>\n",
       "      <td>0.000000</td>\n",
       "    </tr>\n",
       "    <tr>\n",
       "      <th>Violation Description</th>\n",
       "      <td>Violation Description</td>\n",
       "      <td>0.009993</td>\n",
       "    </tr>\n",
       "    <tr>\n",
       "      <th>Fine amount</th>\n",
       "      <td>Fine amount</td>\n",
       "      <td>0.074570</td>\n",
       "    </tr>\n",
       "    <tr>\n",
       "      <th>Latitude</th>\n",
       "      <td>Latitude</td>\n",
       "      <td>15.026185</td>\n",
       "    </tr>\n",
       "    <tr>\n",
       "      <th>Longitude</th>\n",
       "      <td>Longitude</td>\n",
       "      <td>15.026185</td>\n",
       "    </tr>\n",
       "  </tbody>\n",
       "</table>\n",
       "</div>"
      ],
      "text/plain": [
       "                                 column_name  percent_missing\n",
       "Ticket number                  Ticket number         0.000000\n",
       "Issue Date                        Issue Date         0.006143\n",
       "Issue time                        Issue time         0.029601\n",
       "Meter Id                            Meter Id        73.991538\n",
       "Marked Time                      Marked Time        96.669739\n",
       "RP State Plate                RP State Plate         0.008767\n",
       "Plate Expiry Date          Plate Expiry Date         9.108706\n",
       "VIN                                      VIN        99.813099\n",
       "Make                                    Make        50.062606\n",
       "Body Style                        Body Style         0.101879\n",
       "Color                                  Color         0.047158\n",
       "Location                            Location         0.009787\n",
       "Route                                  Route         0.748956\n",
       "Agency                                Agency         0.006246\n",
       "Violation code                Violation code         0.000000\n",
       "Violation Description  Violation Description         0.009993\n",
       "Fine amount                      Fine amount         0.074570\n",
       "Latitude                            Latitude        15.026185\n",
       "Longitude                          Longitude        15.026185"
      ]
     },
     "execution_count": 4,
     "metadata": {},
     "output_type": "execute_result"
    }
   ],
   "source": [
    "\n",
    "\n",
    "percent_missing = df.isnull().sum()*100 / len(df)\n",
    "missing_value_df = pd.DataFrame({'column_name': df.columns,\n",
    "                                 'percent_missing': percent_missing})\n",
    "missing_value_df"
   ]
  },
  {
   "cell_type": "markdown",
   "metadata": {},
   "source": [
    "There are problems with the latitudes and longitudes, they don't make to standard coordinates. For example: Record with ticket id 1109139006 should have latitude and longitude of 34.156940, -118.435250. It has 6467477, 1880027 instead. Provided lat and long don't seem to map to standard formats.\n"
   ]
  },
  {
   "cell_type": "code",
   "execution_count": 5,
   "metadata": {},
   "outputs": [],
   "source": [
    "#TODO: check for differences in test and train set"
   ]
  },
  {
   "cell_type": "markdown",
   "metadata": {},
   "source": [
    "# Label analysis"
   ]
  },
  {
   "cell_type": "code",
   "execution_count": 6,
   "metadata": {},
   "outputs": [],
   "source": [
    "df_features = pd.read_csv('feature_analysis.csv')"
   ]
  },
  {
   "cell_type": "code",
   "execution_count": 7,
   "metadata": {},
   "outputs": [
    {
     "data": {
      "text/html": [
       "<div>\n",
       "<style scoped>\n",
       "    .dataframe tbody tr th:only-of-type {\n",
       "        vertical-align: middle;\n",
       "    }\n",
       "\n",
       "    .dataframe tbody tr th {\n",
       "        vertical-align: top;\n",
       "    }\n",
       "\n",
       "    .dataframe thead th {\n",
       "        text-align: right;\n",
       "    }\n",
       "</style>\n",
       "<table border=\"1\" class=\"dataframe\">\n",
       "  <thead>\n",
       "    <tr style=\"text-align: right;\">\n",
       "      <th></th>\n",
       "      <th>columns</th>\n",
       "      <th>intercept</th>\n",
       "      <th>model_feature_importance</th>\n",
       "      <th>p_value</th>\n",
       "      <th>r_value</th>\n",
       "      <th>slope</th>\n",
       "      <th>std_err</th>\n",
       "    </tr>\n",
       "  </thead>\n",
       "  <tbody>\n",
       "    <tr>\n",
       "      <th>119</th>\n",
       "      <td>Fine amount</td>\n",
       "      <td>0.498704</td>\n",
       "      <td>0.027279</td>\n",
       "      <td>0.509448</td>\n",
       "      <td>0.001181</td>\n",
       "      <td>1.849256e-05</td>\n",
       "      <td>2.803185e-05</td>\n",
       "    </tr>\n",
       "    <tr>\n",
       "      <th>120</th>\n",
       "      <td>plate_expiration_diff_ts</td>\n",
       "      <td>0.499560</td>\n",
       "      <td>0.021914</td>\n",
       "      <td>0.257164</td>\n",
       "      <td>-0.002029</td>\n",
       "      <td>-3.013163e-22</td>\n",
       "      <td>2.659169e-22</td>\n",
       "    </tr>\n",
       "    <tr>\n",
       "      <th>74</th>\n",
       "      <td>ticket_year_2017</td>\n",
       "      <td>0.499632</td>\n",
       "      <td>0.021214</td>\n",
       "      <td>0.486821</td>\n",
       "      <td>0.001245</td>\n",
       "      <td>1.422203e-03</td>\n",
       "      <td>2.045231e-03</td>\n",
       "    </tr>\n",
       "    <tr>\n",
       "      <th>7</th>\n",
       "      <td>color_GY</td>\n",
       "      <td>0.500446</td>\n",
       "      <td>0.020335</td>\n",
       "      <td>0.310632</td>\n",
       "      <td>-0.001816</td>\n",
       "      <td>-2.294626e-03</td>\n",
       "      <td>2.263172e-03</td>\n",
       "    </tr>\n",
       "    <tr>\n",
       "      <th>72</th>\n",
       "      <td>ticket_year_2015</td>\n",
       "      <td>0.500049</td>\n",
       "      <td>0.019994</td>\n",
       "      <td>0.924127</td>\n",
       "      <td>-0.000171</td>\n",
       "      <td>-1.971760e-04</td>\n",
       "      <td>2.070377e-03</td>\n",
       "    </tr>\n",
       "    <tr>\n",
       "      <th>90</th>\n",
       "      <td>ticket_dow_1</td>\n",
       "      <td>0.499558</td>\n",
       "      <td>0.019343</td>\n",
       "      <td>0.314790</td>\n",
       "      <td>0.001800</td>\n",
       "      <td>2.275849e-03</td>\n",
       "      <td>2.264023e-03</td>\n",
       "    </tr>\n",
       "    <tr>\n",
       "      <th>93</th>\n",
       "      <td>ticket_dow_4</td>\n",
       "      <td>0.500748</td>\n",
       "      <td>0.018496</td>\n",
       "      <td>0.057241</td>\n",
       "      <td>-0.003405</td>\n",
       "      <td>-4.623488e-03</td>\n",
       "      <td>2.431534e-03</td>\n",
       "    </tr>\n",
       "    <tr>\n",
       "      <th>73</th>\n",
       "      <td>ticket_year_2016</td>\n",
       "      <td>0.500465</td>\n",
       "      <td>0.018306</td>\n",
       "      <td>0.370883</td>\n",
       "      <td>-0.001603</td>\n",
       "      <td>-1.844952e-03</td>\n",
       "      <td>2.061809e-03</td>\n",
       "    </tr>\n",
       "    <tr>\n",
       "      <th>89</th>\n",
       "      <td>ticket_dow_0</td>\n",
       "      <td>0.499710</td>\n",
       "      <td>0.018268</td>\n",
       "      <td>0.464613</td>\n",
       "      <td>0.001310</td>\n",
       "      <td>1.770736e-03</td>\n",
       "      <td>2.421444e-03</td>\n",
       "    </tr>\n",
       "    <tr>\n",
       "      <th>12</th>\n",
       "      <td>color_WT</td>\n",
       "      <td>0.500188</td>\n",
       "      <td>0.017575</td>\n",
       "      <td>0.681058</td>\n",
       "      <td>-0.000736</td>\n",
       "      <td>-9.082704e-04</td>\n",
       "      <td>2.209797e-03</td>\n",
       "    </tr>\n",
       "    <tr>\n",
       "      <th>91</th>\n",
       "      <td>ticket_dow_2</td>\n",
       "      <td>0.500216</td>\n",
       "      <td>0.016236</td>\n",
       "      <td>0.611999</td>\n",
       "      <td>-0.000908</td>\n",
       "      <td>-1.169437e-03</td>\n",
       "      <td>2.305569e-03</td>\n",
       "    </tr>\n",
       "    <tr>\n",
       "      <th>17</th>\n",
       "      <td>agency_54.0</td>\n",
       "      <td>0.499951</td>\n",
       "      <td>0.016105</td>\n",
       "      <td>0.923742</td>\n",
       "      <td>0.000171</td>\n",
       "      <td>1.991852e-04</td>\n",
       "      <td>2.080899e-03</td>\n",
       "    </tr>\n",
       "    <tr>\n",
       "      <th>75</th>\n",
       "      <td>ticket_year_2018</td>\n",
       "      <td>0.499675</td>\n",
       "      <td>0.015844</td>\n",
       "      <td>0.506290</td>\n",
       "      <td>0.001190</td>\n",
       "      <td>1.415802e-03</td>\n",
       "      <td>2.130223e-03</td>\n",
       "    </tr>\n",
       "    <tr>\n",
       "      <th>2</th>\n",
       "      <td>color_BK</td>\n",
       "      <td>0.499930</td>\n",
       "      <td>0.015583</td>\n",
       "      <td>0.882280</td>\n",
       "      <td>0.000265</td>\n",
       "      <td>3.224668e-04</td>\n",
       "      <td>2.177657e-03</td>\n",
       "    </tr>\n",
       "    <tr>\n",
       "      <th>92</th>\n",
       "      <td>ticket_dow_3</td>\n",
       "      <td>0.499820</td>\n",
       "      <td>0.015552</td>\n",
       "      <td>0.676791</td>\n",
       "      <td>0.000747</td>\n",
       "      <td>9.547368e-04</td>\n",
       "      <td>2.290379e-03</td>\n",
       "    </tr>\n",
       "    <tr>\n",
       "      <th>1</th>\n",
       "      <td>rp_state_plate_dummy_replacement_value</td>\n",
       "      <td>0.499997</td>\n",
       "      <td>0.015095</td>\n",
       "      <td>0.988707</td>\n",
       "      <td>0.000025</td>\n",
       "      <td>5.008189e-05</td>\n",
       "      <td>3.538439e-03</td>\n",
       "    </tr>\n",
       "    <tr>\n",
       "      <th>82</th>\n",
       "      <td>ticket_month_3</td>\n",
       "      <td>0.500005</td>\n",
       "      <td>0.014416</td>\n",
       "      <td>0.985082</td>\n",
       "      <td>-0.000033</td>\n",
       "      <td>-5.827112e-05</td>\n",
       "      <td>3.116395e-03</td>\n",
       "    </tr>\n",
       "    <tr>\n",
       "      <th>67</th>\n",
       "      <td>body_style_PA</td>\n",
       "      <td>0.498805</td>\n",
       "      <td>0.013740</td>\n",
       "      <td>0.620865</td>\n",
       "      <td>0.000886</td>\n",
       "      <td>1.359198e-03</td>\n",
       "      <td>2.747934e-03</td>\n",
       "    </tr>\n",
       "    <tr>\n",
       "      <th>15</th>\n",
       "      <td>agency_51.0</td>\n",
       "      <td>0.499839</td>\n",
       "      <td>0.013726</td>\n",
       "      <td>0.737135</td>\n",
       "      <td>0.000601</td>\n",
       "      <td>7.221918e-04</td>\n",
       "      <td>2.151619e-03</td>\n",
       "    </tr>\n",
       "    <tr>\n",
       "      <th>16</th>\n",
       "      <td>agency_53.0</td>\n",
       "      <td>0.500113</td>\n",
       "      <td>0.013196</td>\n",
       "      <td>0.787009</td>\n",
       "      <td>-0.000484</td>\n",
       "      <td>-6.293665e-04</td>\n",
       "      <td>2.329293e-03</td>\n",
       "    </tr>\n",
       "  </tbody>\n",
       "</table>\n",
       "</div>"
      ],
      "text/plain": [
       "                                    columns  intercept  \\\n",
       "119                             Fine amount   0.498704   \n",
       "120                plate_expiration_diff_ts   0.499560   \n",
       "74                         ticket_year_2017   0.499632   \n",
       "7                                  color_GY   0.500446   \n",
       "72                         ticket_year_2015   0.500049   \n",
       "90                             ticket_dow_1   0.499558   \n",
       "93                             ticket_dow_4   0.500748   \n",
       "73                         ticket_year_2016   0.500465   \n",
       "89                             ticket_dow_0   0.499710   \n",
       "12                                 color_WT   0.500188   \n",
       "91                             ticket_dow_2   0.500216   \n",
       "17                              agency_54.0   0.499951   \n",
       "75                         ticket_year_2018   0.499675   \n",
       "2                                  color_BK   0.499930   \n",
       "92                             ticket_dow_3   0.499820   \n",
       "1    rp_state_plate_dummy_replacement_value   0.499997   \n",
       "82                           ticket_month_3   0.500005   \n",
       "67                            body_style_PA   0.498805   \n",
       "15                              agency_51.0   0.499839   \n",
       "16                              agency_53.0   0.500113   \n",
       "\n",
       "     model_feature_importance   p_value   r_value         slope       std_err  \n",
       "119                  0.027279  0.509448  0.001181  1.849256e-05  2.803185e-05  \n",
       "120                  0.021914  0.257164 -0.002029 -3.013163e-22  2.659169e-22  \n",
       "74                   0.021214  0.486821  0.001245  1.422203e-03  2.045231e-03  \n",
       "7                    0.020335  0.310632 -0.001816 -2.294626e-03  2.263172e-03  \n",
       "72                   0.019994  0.924127 -0.000171 -1.971760e-04  2.070377e-03  \n",
       "90                   0.019343  0.314790  0.001800  2.275849e-03  2.264023e-03  \n",
       "93                   0.018496  0.057241 -0.003405 -4.623488e-03  2.431534e-03  \n",
       "73                   0.018306  0.370883 -0.001603 -1.844952e-03  2.061809e-03  \n",
       "89                   0.018268  0.464613  0.001310  1.770736e-03  2.421444e-03  \n",
       "12                   0.017575  0.681058 -0.000736 -9.082704e-04  2.209797e-03  \n",
       "91                   0.016236  0.611999 -0.000908 -1.169437e-03  2.305569e-03  \n",
       "17                   0.016105  0.923742  0.000171  1.991852e-04  2.080899e-03  \n",
       "75                   0.015844  0.506290  0.001190  1.415802e-03  2.130223e-03  \n",
       "2                    0.015583  0.882280  0.000265  3.224668e-04  2.177657e-03  \n",
       "92                   0.015552  0.676791  0.000747  9.547368e-04  2.290379e-03  \n",
       "1                    0.015095  0.988707  0.000025  5.008189e-05  3.538439e-03  \n",
       "82                   0.014416  0.985082 -0.000033 -5.827112e-05  3.116395e-03  \n",
       "67                   0.013740  0.620865  0.000886  1.359198e-03  2.747934e-03  \n",
       "15                   0.013726  0.737135  0.000601  7.221918e-04  2.151619e-03  \n",
       "16                   0.013196  0.787009 -0.000484 -6.293665e-04  2.329293e-03  "
      ]
     },
     "execution_count": 7,
     "metadata": {},
     "output_type": "execute_result"
    }
   ],
   "source": [
    "df_features.sort_values('model_feature_importance', ascending = False)[:20]\n"
   ]
  },
  {
   "cell_type": "code",
   "execution_count": 8,
   "metadata": {},
   "outputs": [
    {
     "name": "stderr",
     "output_type": "stream",
     "text": [
      "/home/td/anaconda3/lib/python3.7/site-packages/sklearn/utils/validation.py:595: DataConversionWarning: Data with input dtype int64 was converted to float64 by StandardScaler.\n",
      "  warnings.warn(msg, DataConversionWarning)\n",
      "/home/td/anaconda3/lib/python3.7/site-packages/sklearn/utils/validation.py:595: DataConversionWarning: Data with input dtype int64 was converted to float64 by StandardScaler.\n",
      "  warnings.warn(msg, DataConversionWarning)\n"
     ]
    },
    {
     "ename": "KeyError",
     "evalue": "'lat_long_outlier_score'",
     "output_type": "error",
     "traceback": [
      "\u001b[0;31m---------------------------------------------------------------------------\u001b[0m",
      "\u001b[0;31mKeyError\u001b[0m                                  Traceback (most recent call last)",
      "\u001b[0;32m~/anaconda3/lib/python3.7/site-packages/pandas/core/indexes/base.py\u001b[0m in \u001b[0;36mget_loc\u001b[0;34m(self, key, method, tolerance)\u001b[0m\n\u001b[1;32m   2656\u001b[0m             \u001b[0;32mtry\u001b[0m\u001b[0;34m:\u001b[0m\u001b[0;34m\u001b[0m\u001b[0;34m\u001b[0m\u001b[0m\n\u001b[0;32m-> 2657\u001b[0;31m                 \u001b[0;32mreturn\u001b[0m \u001b[0mself\u001b[0m\u001b[0;34m.\u001b[0m\u001b[0m_engine\u001b[0m\u001b[0;34m.\u001b[0m\u001b[0mget_loc\u001b[0m\u001b[0;34m(\u001b[0m\u001b[0mkey\u001b[0m\u001b[0;34m)\u001b[0m\u001b[0;34m\u001b[0m\u001b[0;34m\u001b[0m\u001b[0m\n\u001b[0m\u001b[1;32m   2658\u001b[0m             \u001b[0;32mexcept\u001b[0m \u001b[0mKeyError\u001b[0m\u001b[0;34m:\u001b[0m\u001b[0;34m\u001b[0m\u001b[0;34m\u001b[0m\u001b[0m\n",
      "\u001b[0;32mpandas/_libs/index.pyx\u001b[0m in \u001b[0;36mpandas._libs.index.IndexEngine.get_loc\u001b[0;34m()\u001b[0m\n",
      "\u001b[0;32mpandas/_libs/index.pyx\u001b[0m in \u001b[0;36mpandas._libs.index.IndexEngine.get_loc\u001b[0;34m()\u001b[0m\n",
      "\u001b[0;32mpandas/_libs/hashtable_class_helper.pxi\u001b[0m in \u001b[0;36mpandas._libs.hashtable.PyObjectHashTable.get_item\u001b[0;34m()\u001b[0m\n",
      "\u001b[0;32mpandas/_libs/hashtable_class_helper.pxi\u001b[0m in \u001b[0;36mpandas._libs.hashtable.PyObjectHashTable.get_item\u001b[0;34m()\u001b[0m\n",
      "\u001b[0;31mKeyError\u001b[0m: 'lat_long_outlier_score'",
      "\nDuring handling of the above exception, another exception occurred:\n",
      "\u001b[0;31mKeyError\u001b[0m                                  Traceback (most recent call last)",
      "\u001b[0;32m<ipython-input-8-793aea46dd49>\u001b[0m in \u001b[0;36m<module>\u001b[0;34m\u001b[0m\n\u001b[1;32m     20\u001b[0m \u001b[0;32mfor\u001b[0m \u001b[0mi\u001b[0m \u001b[0;32min\u001b[0m \u001b[0mrelevant_features\u001b[0m\u001b[0;34m:\u001b[0m\u001b[0;34m\u001b[0m\u001b[0;34m\u001b[0m\u001b[0m\n\u001b[1;32m     21\u001b[0m     \u001b[0mscaler\u001b[0m \u001b[0;34m=\u001b[0m \u001b[0mStandardScaler\u001b[0m\u001b[0;34m(\u001b[0m\u001b[0;34m)\u001b[0m\u001b[0;34m\u001b[0m\u001b[0;34m\u001b[0m\u001b[0m\n\u001b[0;32m---> 22\u001b[0;31m     \u001b[0mdf_labels\u001b[0m\u001b[0;34m.\u001b[0m\u001b[0mloc\u001b[0m\u001b[0;34m[\u001b[0m\u001b[0;34m:\u001b[0m\u001b[0;34m,\u001b[0m \u001b[0mi\u001b[0m\u001b[0;34m]\u001b[0m \u001b[0;34m=\u001b[0m  \u001b[0mscaler\u001b[0m\u001b[0;34m.\u001b[0m\u001b[0mfit_transform\u001b[0m\u001b[0;34m(\u001b[0m\u001b[0mdf_labels\u001b[0m\u001b[0;34m[\u001b[0m\u001b[0mi\u001b[0m\u001b[0;34m]\u001b[0m\u001b[0;34m.\u001b[0m\u001b[0mvalues\u001b[0m\u001b[0;34m.\u001b[0m\u001b[0mreshape\u001b[0m\u001b[0;34m(\u001b[0m\u001b[0;34m-\u001b[0m\u001b[0;36m1\u001b[0m\u001b[0;34m,\u001b[0m \u001b[0;36m1\u001b[0m\u001b[0;34m)\u001b[0m\u001b[0;34m)\u001b[0m\u001b[0;34m\u001b[0m\u001b[0;34m\u001b[0m\u001b[0m\n\u001b[0m\u001b[1;32m     23\u001b[0m \u001b[0mdf_labels\u001b[0m\u001b[0;34m\u001b[0m\u001b[0;34m\u001b[0m\u001b[0m\n\u001b[1;32m     24\u001b[0m \u001b[0;34m\u001b[0m\u001b[0m\n",
      "\u001b[0;32m~/anaconda3/lib/python3.7/site-packages/pandas/core/frame.py\u001b[0m in \u001b[0;36m__getitem__\u001b[0;34m(self, key)\u001b[0m\n\u001b[1;32m   2925\u001b[0m             \u001b[0;32mif\u001b[0m \u001b[0mself\u001b[0m\u001b[0;34m.\u001b[0m\u001b[0mcolumns\u001b[0m\u001b[0;34m.\u001b[0m\u001b[0mnlevels\u001b[0m \u001b[0;34m>\u001b[0m \u001b[0;36m1\u001b[0m\u001b[0;34m:\u001b[0m\u001b[0;34m\u001b[0m\u001b[0;34m\u001b[0m\u001b[0m\n\u001b[1;32m   2926\u001b[0m                 \u001b[0;32mreturn\u001b[0m \u001b[0mself\u001b[0m\u001b[0;34m.\u001b[0m\u001b[0m_getitem_multilevel\u001b[0m\u001b[0;34m(\u001b[0m\u001b[0mkey\u001b[0m\u001b[0;34m)\u001b[0m\u001b[0;34m\u001b[0m\u001b[0;34m\u001b[0m\u001b[0m\n\u001b[0;32m-> 2927\u001b[0;31m             \u001b[0mindexer\u001b[0m \u001b[0;34m=\u001b[0m \u001b[0mself\u001b[0m\u001b[0;34m.\u001b[0m\u001b[0mcolumns\u001b[0m\u001b[0;34m.\u001b[0m\u001b[0mget_loc\u001b[0m\u001b[0;34m(\u001b[0m\u001b[0mkey\u001b[0m\u001b[0;34m)\u001b[0m\u001b[0;34m\u001b[0m\u001b[0;34m\u001b[0m\u001b[0m\n\u001b[0m\u001b[1;32m   2928\u001b[0m             \u001b[0;32mif\u001b[0m \u001b[0mis_integer\u001b[0m\u001b[0;34m(\u001b[0m\u001b[0mindexer\u001b[0m\u001b[0;34m)\u001b[0m\u001b[0;34m:\u001b[0m\u001b[0;34m\u001b[0m\u001b[0;34m\u001b[0m\u001b[0m\n\u001b[1;32m   2929\u001b[0m                 \u001b[0mindexer\u001b[0m \u001b[0;34m=\u001b[0m \u001b[0;34m[\u001b[0m\u001b[0mindexer\u001b[0m\u001b[0;34m]\u001b[0m\u001b[0;34m\u001b[0m\u001b[0;34m\u001b[0m\u001b[0m\n",
      "\u001b[0;32m~/anaconda3/lib/python3.7/site-packages/pandas/core/indexes/base.py\u001b[0m in \u001b[0;36mget_loc\u001b[0;34m(self, key, method, tolerance)\u001b[0m\n\u001b[1;32m   2657\u001b[0m                 \u001b[0;32mreturn\u001b[0m \u001b[0mself\u001b[0m\u001b[0;34m.\u001b[0m\u001b[0m_engine\u001b[0m\u001b[0;34m.\u001b[0m\u001b[0mget_loc\u001b[0m\u001b[0;34m(\u001b[0m\u001b[0mkey\u001b[0m\u001b[0;34m)\u001b[0m\u001b[0;34m\u001b[0m\u001b[0;34m\u001b[0m\u001b[0m\n\u001b[1;32m   2658\u001b[0m             \u001b[0;32mexcept\u001b[0m \u001b[0mKeyError\u001b[0m\u001b[0;34m:\u001b[0m\u001b[0;34m\u001b[0m\u001b[0;34m\u001b[0m\u001b[0m\n\u001b[0;32m-> 2659\u001b[0;31m                 \u001b[0;32mreturn\u001b[0m \u001b[0mself\u001b[0m\u001b[0;34m.\u001b[0m\u001b[0m_engine\u001b[0m\u001b[0;34m.\u001b[0m\u001b[0mget_loc\u001b[0m\u001b[0;34m(\u001b[0m\u001b[0mself\u001b[0m\u001b[0;34m.\u001b[0m\u001b[0m_maybe_cast_indexer\u001b[0m\u001b[0;34m(\u001b[0m\u001b[0mkey\u001b[0m\u001b[0;34m)\u001b[0m\u001b[0;34m)\u001b[0m\u001b[0;34m\u001b[0m\u001b[0;34m\u001b[0m\u001b[0m\n\u001b[0m\u001b[1;32m   2660\u001b[0m         \u001b[0mindexer\u001b[0m \u001b[0;34m=\u001b[0m \u001b[0mself\u001b[0m\u001b[0;34m.\u001b[0m\u001b[0mget_indexer\u001b[0m\u001b[0;34m(\u001b[0m\u001b[0;34m[\u001b[0m\u001b[0mkey\u001b[0m\u001b[0;34m]\u001b[0m\u001b[0;34m,\u001b[0m \u001b[0mmethod\u001b[0m\u001b[0;34m=\u001b[0m\u001b[0mmethod\u001b[0m\u001b[0;34m,\u001b[0m \u001b[0mtolerance\u001b[0m\u001b[0;34m=\u001b[0m\u001b[0mtolerance\u001b[0m\u001b[0;34m)\u001b[0m\u001b[0;34m\u001b[0m\u001b[0;34m\u001b[0m\u001b[0m\n\u001b[1;32m   2661\u001b[0m         \u001b[0;32mif\u001b[0m \u001b[0mindexer\u001b[0m\u001b[0;34m.\u001b[0m\u001b[0mndim\u001b[0m \u001b[0;34m>\u001b[0m \u001b[0;36m1\u001b[0m \u001b[0;32mor\u001b[0m \u001b[0mindexer\u001b[0m\u001b[0;34m.\u001b[0m\u001b[0msize\u001b[0m \u001b[0;34m>\u001b[0m \u001b[0;36m1\u001b[0m\u001b[0;34m:\u001b[0m\u001b[0;34m\u001b[0m\u001b[0;34m\u001b[0m\u001b[0m\n",
      "\u001b[0;32mpandas/_libs/index.pyx\u001b[0m in \u001b[0;36mpandas._libs.index.IndexEngine.get_loc\u001b[0;34m()\u001b[0m\n",
      "\u001b[0;32mpandas/_libs/index.pyx\u001b[0m in \u001b[0;36mpandas._libs.index.IndexEngine.get_loc\u001b[0;34m()\u001b[0m\n",
      "\u001b[0;32mpandas/_libs/hashtable_class_helper.pxi\u001b[0m in \u001b[0;36mpandas._libs.hashtable.PyObjectHashTable.get_item\u001b[0;34m()\u001b[0m\n",
      "\u001b[0;32mpandas/_libs/hashtable_class_helper.pxi\u001b[0m in \u001b[0;36mpandas._libs.hashtable.PyObjectHashTable.get_item\u001b[0;34m()\u001b[0m\n",
      "\u001b[0;31mKeyError\u001b[0m: 'lat_long_outlier_score'"
     ]
    }
   ],
   "source": [
    "df_labels = pd.read_csv('label_analysis.csv')\n",
    "df_labels = df_labels[df_labels['Make'].isin(top_25_makes)]\n",
    "df_counts= df_labels['Make'].value_counts()\n",
    "from sklearn.preprocessing import StandardScaler\n",
    "\n",
    "relevant_features = ['Fine amount', \n",
    "                     'plate_expiration_diff_ts', \n",
    "                     'route_dummy_replacement_value',\n",
    "                     'color_GY',\n",
    "                     'color_BL',\n",
    "                     'color_BK',\n",
    "                     'color_WT',\n",
    "                     'color_BL',\n",
    "                     'color_SL',\n",
    "                     'route_00600',\n",
    "                     'route_00500']\n",
    "\n",
    "\n",
    "for i in relevant_features:\n",
    "    scaler = StandardScaler()\n",
    "    df_labels.loc[:, i] =  scaler.fit_transform(df_labels[i].values.reshape(-1, 1))\n",
    "df_labels\n",
    "\n",
    "\n",
    "df_group = df_labels[['Make'] + relevant_features].groupby('Make').mean()"
   ]
  },
  {
   "cell_type": "code",
   "execution_count": null,
   "metadata": {},
   "outputs": [],
   "source": [
    "from sklearn.cluster import KMeans\n",
    "\n",
    "\n",
    "cluster_alg = KMeans(n_clusters = 2)\n",
    "df_group['cluster'] = cluster_alg.fit_predict(df_group[relevant_features])\n",
    "df_group.sort_values('cluster')\n"
   ]
  },
  {
   "cell_type": "code",
   "execution_count": null,
   "metadata": {},
   "outputs": [],
   "source": [
    "df_group.groupby('cluster').mean()\n",
    "        "
   ]
  },
  {
   "cell_type": "markdown",
   "metadata": {},
   "source": [
    "# Features"
   ]
  },
  {
   "cell_type": "markdown",
   "metadata": {},
   "source": [
    "There are 3 general type of features: location, car characteristics and ticket/violation characteristics. \n",
    "\n",
    "The best location features are the Route and ticket location density (lat_long_outlier_score). \n",
    "\n",
    "The best car characteristics features are the Body type and the car color. \n",
    "\n",
    "The best violation features are the fine amount and datetime information about the violation. Fine amount is important as it captures other violation information and is correlated to violation description features."
   ]
  },
  {
   "cell_type": "code",
   "execution_count": null,
   "metadata": {},
   "outputs": [],
   "source": [
    "df_copy = df.copy()\n",
    "df_copy = df_copy.dropna(subset = ['Make'])\n",
    "df_copy['target'] = df_copy['Make'].isin(top_25_makes).astype(int)\n",
    "\n",
    "def pad_int(num, l = 4):\n",
    "    if not pd.isna(num):\n",
    "        num = int(float(num))\n",
    "        num_str = str(num)\n",
    "        while len(num_str) < l:\n",
    "            num_str  = '0' + num_str\n",
    "        return num_str\n",
    "\n",
    "df_copy['ticket_dt'] = pd.to_datetime(df_copy.loc[:,'Issue Date'], errors='coerce')\n",
    "df_copy['ticket_year'] = df_copy['ticket_dt'].dt.year\n",
    "df_copy['ticket_month'] = df_copy['ticket_dt'].dt.month\n",
    "df_copy['ticket_dow'] = df_copy['ticket_dt'].dt.dayofweek\n",
    "df_copy['ticket_hour_of_day'] = df_copy['Issue time'].apply(lambda x: pad_int(x)).astype(str).str[:2]\n"
   ]
  },
  {
   "cell_type": "code",
   "execution_count": null,
   "metadata": {},
   "outputs": [],
   "source": [
    "def get_cat_info_about_column(df, col_name, min_perc = .01):\n",
    "    valid_values = [i for  i, j in dict(df_copy[col_name].value_counts(normalize = True)).items() if j >= min_perc]\n",
    "    df_valid = df_copy[df_copy[col_name].isin(valid_values)]\n",
    "    mean_df =  df_valid.groupby([col_name])['target'].mean().to_frame()\n",
    "    count_df = df_valid[col_name].value_counts(normalize = True).to_frame()\n",
    "    count_df =  count_df.reset_index()\n",
    "    count_df.columns = [col_name, 'perc_of_values']\n",
    "    mean_df.columns = ['mean_target']\n",
    "    mean_df =  mean_df.reset_index()\n",
    "    output = mean_df.merge(count_df)\n",
    "    return output.sort_values('perc_of_values', ascending = False)\n",
    "    "
   ]
  },
  {
   "cell_type": "code",
   "execution_count": null,
   "metadata": {},
   "outputs": [],
   "source": [
    "get_cat_info_about_column(df_copy, 'RP State Plate', min_perc = .001)\n"
   ]
  },
  {
   "cell_type": "code",
   "execution_count": null,
   "metadata": {},
   "outputs": [],
   "source": [
    "get_cat_info_about_column(df_copy, 'Route', min_perc = .01)\n"
   ]
  },
  {
   "cell_type": "code",
   "execution_count": null,
   "metadata": {},
   "outputs": [],
   "source": [
    "get_cat_info_about_column(df_copy, 'Body Style', min_perc = .01)\n"
   ]
  },
  {
   "cell_type": "code",
   "execution_count": null,
   "metadata": {},
   "outputs": [],
   "source": [
    "get_cat_info_about_column(df_copy, 'ticket_hour_of_day', min_perc = .01)"
   ]
  },
  {
   "cell_type": "code",
   "execution_count": null,
   "metadata": {},
   "outputs": [],
   "source": [
    "# get_cat_info_about_column(df_copy, 'ticket_month', min_perc = .01)\n"
   ]
  },
  {
   "cell_type": "code",
   "execution_count": null,
   "metadata": {},
   "outputs": [],
   "source": [
    "get_cat_info_about_column(df_copy, 'ticket_dow', min_perc = .01)\n"
   ]
  },
  {
   "cell_type": "code",
   "execution_count": null,
   "metadata": {},
   "outputs": [],
   "source": [
    "df_corr = df_labels.corr()\n",
    "\n"
   ]
  },
  {
   "cell_type": "code",
   "execution_count": null,
   "metadata": {},
   "outputs": [],
   "source": [
    "\n",
    "df_corr[(df_corr['Fine amount'] > .1)|(df_corr['Fine amount'] < -.1)].sort_values('Fine amount')"
   ]
  },
  {
   "cell_type": "code",
   "execution_count": null,
   "metadata": {},
   "outputs": [],
   "source": [
    "df_corr[(df_corr['plate_expiration_diff_ts'] > .1)|(df_corr['plate_expiration_diff_ts'] < -.1)].sort_values('plate_expiration_diff_ts')"
   ]
  },
  {
   "cell_type": "markdown",
   "metadata": {},
   "source": [
    "# Evaluation"
   ]
  },
  {
   "cell_type": "code",
   "execution_count": 13,
   "metadata": {},
   "outputs": [],
   "source": [
    "tn, fp, fn, tp = 24072, 269106, 13273, 129304\n",
    "total_num = tn + fp + fn + tp\n",
    "precision = tp/(tp + fp)\n",
    "recall = tp/(tp + fn)\n",
    "f1_score = 2 * (precision*recall)/(precision + recall)"
   ]
  },
  {
   "cell_type": "code",
   "execution_count": 14,
   "metadata": {},
   "outputs": [
    {
     "data": {
      "text/html": [
       "<div>\n",
       "<style scoped>\n",
       "    .dataframe tbody tr th:only-of-type {\n",
       "        vertical-align: middle;\n",
       "    }\n",
       "\n",
       "    .dataframe tbody tr th {\n",
       "        vertical-align: top;\n",
       "    }\n",
       "\n",
       "    .dataframe thead th {\n",
       "        text-align: right;\n",
       "    }\n",
       "</style>\n",
       "<table border=\"1\" class=\"dataframe\">\n",
       "  <thead>\n",
       "    <tr style=\"text-align: right;\">\n",
       "      <th></th>\n",
       "      <th>1</th>\n",
       "      <th>0</th>\n",
       "    </tr>\n",
       "  </thead>\n",
       "  <tbody>\n",
       "    <tr>\n",
       "      <th>1</th>\n",
       "      <td>0.296736</td>\n",
       "      <td>0.617563</td>\n",
       "    </tr>\n",
       "    <tr>\n",
       "      <th>0</th>\n",
       "      <td>0.055242</td>\n",
       "      <td>0.030460</td>\n",
       "    </tr>\n",
       "  </tbody>\n",
       "</table>\n",
       "</div>"
      ],
      "text/plain": [
       "          1         0\n",
       "1  0.296736  0.617563\n",
       "0  0.055242  0.030460"
      ]
     },
     "execution_count": 14,
     "metadata": {},
     "output_type": "execute_result"
    }
   ],
   "source": [
    "eval_df = pd.DataFrame(data = [[tp/total_num, fp/total_num], [tn/total_num, fn/total_num]],\n",
    "                      columns = [1, 0],\n",
    "                      index = [1, 0])\n",
    "eval_df"
   ]
  },
  {
   "cell_type": "code",
   "execution_count": null,
   "metadata": {},
   "outputs": [],
   "source": []
  },
  {
   "cell_type": "code",
   "execution_count": null,
   "metadata": {},
   "outputs": [],
   "source": []
  },
  {
   "cell_type": "code",
   "execution_count": null,
   "metadata": {},
   "outputs": [],
   "source": []
  },
  {
   "cell_type": "code",
   "execution_count": null,
   "metadata": {},
   "outputs": [],
   "source": []
  },
  {
   "cell_type": "code",
   "execution_count": null,
   "metadata": {},
   "outputs": [],
   "source": []
  },
  {
   "cell_type": "code",
   "execution_count": null,
   "metadata": {},
   "outputs": [],
   "source": []
  }
 ],
 "metadata": {
  "kernelspec": {
   "display_name": "Python 3",
   "language": "python",
   "name": "python3"
  },
  "language_info": {
   "codemirror_mode": {
    "name": "ipython",
    "version": 3
   },
   "file_extension": ".py",
   "mimetype": "text/x-python",
   "name": "python",
   "nbconvert_exporter": "python",
   "pygments_lexer": "ipython3",
   "version": "3.7.3"
  }
 },
 "nbformat": 4,
 "nbformat_minor": 2
}
